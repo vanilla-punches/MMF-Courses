{
 "cells": [
  {
   "cell_type": "markdown",
   "id": "8213b41e",
   "metadata": {},
   "source": [
    "## Part 3 Question 4"
   ]
  },
  {
   "cell_type": "code",
   "execution_count": 1,
   "id": "9808526e",
   "metadata": {},
   "outputs": [],
   "source": [
    "# import libraries\n",
    "\n",
    "import numpy as np\n",
    "import matplotlib.pyplot as plt\n",
    "import matplotlib.dates as mdates\n",
    "import pandas as pd\n",
    "import pylab as pl\n",
    "import datetime as dt\n",
    "\n",
    "import math\n",
    "import scipy.stats as scs\n",
    "from scipy import stats\n",
    "import statsmodels.api as sm\n",
    "\n",
    "import warnings\n",
    "warnings.filterwarnings(\"ignore\")\n",
    "\n",
    "import yfinance as yf\n",
    "yf.pdr_override()\n",
    "\n",
    "import time\n",
    "import matplotlib.ticker as mticker"
   ]
  },
  {
   "cell_type": "code",
   "execution_count": 2,
   "id": "2c8c01e4",
   "metadata": {},
   "outputs": [],
   "source": [
    "from pickle import FALSE\n",
    "import numpy as np\n",
    "\n",
    "def CRROptionWGreeks(currStockPrice, strikePrice, intRate, divYield, vol, totSteps, yearsToExp, optionType, american):\n",
    "    \"\"\" BinomialOptionPricer implements a simple binomial model for option pricing\n",
    "    \n",
    "        currStockPrice = Current price of the underlying stock\n",
    "        strikePrice = Strike price of the option\n",
    "        intRate = Annualized continuous compounding interest rate\n",
    "        divYield = Annualized continuous compounding dividend yield\n",
    "        vol = Expected forward annualized stock price volatility\n",
    "        totStep = Depth of the tree model\n",
    "        yearsToExp = Time to expiry in years\n",
    "        optionType = \"CALL\" or \"PUT\"\n",
    "        american = true or false, i.e. is early excercise allowed (true = American option, false = European)\n",
    "    \n",
    "        returns the calculated price of the option\n",
    "    \"\"\"\n",
    "\n",
    "    # calculate the number of time steps that we require\n",
    "    timeStep = yearsToExp / totSteps\n",
    "      \n",
    "    # one step random walk (price increases)\n",
    "    u = np.exp(vol * np.sqrt(timeStep))\n",
    "    # one step random walk (price decreases)\n",
    "    d = np.exp(-vol * np.sqrt(timeStep))\n",
    "\n",
    "    # risk neutral probability of an up move\n",
    "    pu = (np.exp((intRate - divYield) * timeStep) - d) / (u - d)\n",
    "    # risk neutral probability of a down move\n",
    "    pd = 1 - pu\n",
    "\n",
    "    # Tree is evaluated in two passes\n",
    "    # In the first pass the probability weighted value of the stock price is calculated at each node\n",
    "    # In the second pass the value of the option is calculated for each node given the stock price, backwards from the final time step\n",
    "    # Note that the tree is recombinant, i.e. u+d = d+u\n",
    "\n",
    "    # First we need an empty matrix big enough to hold all the calculated prices\n",
    "    priceTree = np.full((totSteps, totSteps), np.nan) # matrix filled with NaN == missing values\n",
    "    # Note that this tree is approx twice as big as needed because we only need one side of diagonal\n",
    "    # We use the top diagonal for efficiency\n",
    "\n",
    "    # Initialize with the current stock price, then loop through all the steps\n",
    "    priceTree[0, 0] = currStockPrice\n",
    "\n",
    "    for ii in range(1, totSteps):\n",
    "        # vector calculation of all the up steps (show how the indexing works on line)\n",
    "        priceTree[0:ii, ii] = priceTree[0:ii, (ii-1)] * u\n",
    "\n",
    "        # The diagonal will hold the series of realizations that is always down\n",
    "        # this is a scalar calculation\n",
    "        priceTree[ii, ii] = priceTree[(ii-1), (ii-1)] * d\n",
    "\n",
    "        # print(\"\\n\", priceTree)\n",
    "\n",
    "    # Now we can calculate the value of the option at each node\n",
    "    # We need a matrix to hold the option values that is the same size as the price tree\n",
    "    # Note that size returns a vector of dimensions [r, c] which is why it can be passed as dimensions to nan\n",
    "    optionValueTree = np.full_like(priceTree, np.nan)\n",
    "\n",
    "    # First we calculate the terminal value\n",
    "    if optionType == \"CALL\":\n",
    "        optionValueTree[:, -1] = np.maximum(0, priceTree[:, -1] - strikePrice)\n",
    "        # note the handy matrix shortcut syntax & max applied elementwise\n",
    "    elif optionType == \"PUT\":\n",
    "        optionValueTree[:, -1] = np.maximum(0, strikePrice - priceTree[:, -1])\n",
    "    else:\n",
    "        # wherever possible, check that the input parameters are valid and raise an exception if not\n",
    "        raise ValueError(\"Only CALL and PUT option types are supported\")\n",
    "\n",
    "    # print(\"\\n\", optionValueTree)\n",
    "\n",
    "    oneStepDiscount = np.exp(-intRate * timeStep)    # discount rate for one step\n",
    "\n",
    "    # Now we step backwards to calculate the probability weighted option value at every previous node\n",
    "    # How many backwards steps?\n",
    "    backSteps = priceTree.shape[1] - 1  # notice the shape function -> 1 is # of columns, which is last index + 1\n",
    "\n",
    "    for ii in range(backSteps, 0, -1):\n",
    "        optionValueTree[0:ii, ii-1] = \\\n",
    "            oneStepDiscount * \\\n",
    "            (pu * optionValueTree[0:ii, ii] \\\n",
    "            + pd * optionValueTree[1:(ii+1), ii])\n",
    "\n",
    "        #if the option is american then you can convert at anytime, so the option value can never be less than the intrinsic value\n",
    "        if american:\n",
    "            if optionType == \"CALL\":\n",
    "                optionValueTree[0:ii, ii] = np.maximum(priceTree[0:ii, ii] - strikePrice, optionValueTree[0:ii, ii])\n",
    "            else:\n",
    "                optionValueTree[0:ii, ii] = np.maximum(strikePrice - priceTree[0:ii, ii], optionValueTree[0:ii, ii])\n",
    "\n",
    "        # print(\"\\n\", optionValueTree)\n",
    "\n",
    "    # After all that, the current price of the option will be in the first element of the optionValueTree\n",
    "    optionPrice = optionValueTree[0, 0]\n",
    "\n",
    "    # Delta is the difference between the up and down option prices at the first branch, divided by the price change\n",
    "    # Note that time is not held constant in this way\n",
    "    # the more steps the more closely the estimate will match \"instantaneous\"\n",
    "\n",
    "    def D(x, y):\n",
    "        d = (optionValueTree[x, y + 1] - optionValueTree[x + 1, y + 1]) / (priceTree[x, y + 1] - priceTree[x + 1, y + 1]);\n",
    "        return d\n",
    "\n",
    "    delta = D(0,0)\n",
    "\n",
    "    gamma = (D(0,1) - D(1,1)) / (0.5 * (priceTree[0,2] - priceTree[2, 2]))\n",
    "\n",
    "    # Note that theta is measured in the underlying units of timeStep, typically years\n",
    "    theta = (optionValueTree[1, 2] - optionValueTree[0, 0]) / (2 * timeStep)\n",
    "    theta = theta / 365\n",
    "\n",
    "    return optionPrice, delta, gamma, theta     # this return type is a \"tuple\" - a list of related data\n"
   ]
  },
  {
   "cell_type": "code",
   "execution_count": 3,
   "id": "5fcd2166",
   "metadata": {},
   "outputs": [],
   "source": [
    "# Collecting data and calculating time\n",
    "A_price = []\n",
    "time_calc = []\n",
    "steps = range(20,500,20)\n",
    "for step in steps:\n",
    "    start = time.time_ns()\n",
    "    A_price.append(CRROptionWGreeks(100, 100, 0.02, 0, 0.2, step, 1, \"CALL\", True))\n",
    "    end = time.time_ns()\n",
    "    time_calc.append(end-start)"
   ]
  },
  {
   "cell_type": "markdown",
   "id": "054961dd",
   "metadata": {},
   "source": [
    "### Answer for Question 4"
   ]
  },
  {
   "cell_type": "code",
   "execution_count": 4,
   "id": "dd419a66",
   "metadata": {},
   "outputs": [
    {
     "data": {
      "image/png": "[encoded data removed]",
      "text/plain": [
       "<Figure size 576x432 with 2 Axes>"
      ]
     },
     "metadata": {
      "needs_background": "light"
     },
     "output_type": "display_data"
    }
   ],
   "source": [
    "# Plotting price and time of american call option when security price is $100\n",
    "AP = pd.DataFrame(A_price)\n",
    "AP.columns = ['Price','Delta','Gamma','Tetha']\n",
    "\n",
    "\n",
    "fig, (ax1, ax2) = plt.subplots(2, figsize=(8,6))\n",
    "\n",
    "ax1.plot(steps, AP['Price'])\n",
    "ax1.set_title('Price of American Call Option When Security Price = 100')\n",
    "ax1.set_ylabel('Option Price ($)')\n",
    "ax1.set_xlabel('Number of Steps')\n",
    "\n",
    "ax2.plot(steps, time_calc)\n",
    "ax2.set_title('Time Required for Each Calculation When Security Price = 100')\n",
    "ax2.set_ylabel('time')\n",
    "ax2.set_xlabel('Number of Steps')\n",
    "\n",
    "plt.tight_layout()\n",
    "plt.show()"
   ]
  },
  {
   "cell_type": "code",
   "execution_count": 5,
   "id": "0562d8db",
   "metadata": {},
   "outputs": [],
   "source": [
    "#Converting steps to dataframe\n",
    "steps_100 = pd.DataFrame(steps)"
   ]
  },
  {
   "cell_type": "code",
   "execution_count": 6,
   "id": "6ed9a838",
   "metadata": {},
   "outputs": [
    {
     "data": {
      "text/html": [
       "<div>\n",
       "<style scoped>\n",
       "    .dataframe tbody tr th:only-of-type {\n",
       "        vertical-align: middle;\n",
       "    }\n",
       "\n",
       "    .dataframe tbody tr th {\n",
       "        vertical-align: top;\n",
       "    }\n",
       "\n",
       "    .dataframe thead th {\n",
       "        text-align: right;\n",
       "    }\n",
       "</style>\n",
       "<table border=\"1\" class=\"dataframe\">\n",
       "  <thead>\n",
       "    <tr style=\"text-align: right;\">\n",
       "      <th></th>\n",
       "      <th>Price</th>\n",
       "      <th>Delta</th>\n",
       "      <th>Gamma</th>\n",
       "      <th>Tetha</th>\n",
       "      <th>steps</th>\n",
       "      <th>diff100</th>\n",
       "    </tr>\n",
       "  </thead>\n",
       "  <tbody>\n",
       "    <tr>\n",
       "      <th>4</th>\n",
       "      <td>8.886447</td>\n",
       "      <td>0.578670</td>\n",
       "      <td>0.019707</td>\n",
       "      <td>-0.013484</td>\n",
       "      <td>100</td>\n",
       "      <td>0.007390</td>\n",
       "    </tr>\n",
       "    <tr>\n",
       "      <th>5</th>\n",
       "      <td>8.891375</td>\n",
       "      <td>0.578769</td>\n",
       "      <td>0.019681</td>\n",
       "      <td>-0.013470</td>\n",
       "      <td>120</td>\n",
       "      <td>0.004928</td>\n",
       "    </tr>\n",
       "    <tr>\n",
       "      <th>6</th>\n",
       "      <td>8.894896</td>\n",
       "      <td>0.578839</td>\n",
       "      <td>0.019662</td>\n",
       "      <td>-0.013460</td>\n",
       "      <td>140</td>\n",
       "      <td>0.003521</td>\n",
       "    </tr>\n",
       "    <tr>\n",
       "      <th>7</th>\n",
       "      <td>8.897537</td>\n",
       "      <td>0.578892</td>\n",
       "      <td>0.019648</td>\n",
       "      <td>-0.013452</td>\n",
       "      <td>160</td>\n",
       "      <td>0.002641</td>\n",
       "    </tr>\n",
       "    <tr>\n",
       "      <th>8</th>\n",
       "      <td>8.899592</td>\n",
       "      <td>0.578933</td>\n",
       "      <td>0.019638</td>\n",
       "      <td>-0.013446</td>\n",
       "      <td>180</td>\n",
       "      <td>0.002055</td>\n",
       "    </tr>\n",
       "  </tbody>\n",
       "</table>\n",
       "</div>"
      ],
      "text/plain": [
       "      Price     Delta     Gamma     Tetha  steps   diff100\n",
       "4  8.886447  0.578670  0.019707 -0.013484    100  0.007390\n",
       "5  8.891375  0.578769  0.019681 -0.013470    120  0.004928\n",
       "6  8.894896  0.578839  0.019662 -0.013460    140  0.003521\n",
       "7  8.897537  0.578892  0.019648 -0.013452    160  0.002641\n",
       "8  8.899592  0.578933  0.019638 -0.013446    180  0.002055"
      ]
     },
     "execution_count": 6,
     "metadata": {},
     "output_type": "execute_result"
    }
   ],
   "source": [
    "# Finding steps when price difference is within $0.01\n",
    "steps_100.rename(columns={0:\"steps\"}, inplace=True)\n",
    "AP_steps = pd.merge(AP,steps_100, left_index=True, right_index=True)\n",
    "AP_steps['diff100'] = AP['Price'] - AP['Price'].shift(1)\n",
    "AP_steps[AP_steps['diff100']<0.01].head()"
   ]
  },
  {
   "cell_type": "markdown",
   "id": "9361c9c0",
   "metadata": {},
   "source": [
    "### Answer:"
   ]
  },
  {
   "cell_type": "markdown",
   "id": "386a5271",
   "metadata": {},
   "source": [
    "### When security price is 100, it requires around 100 steps before the calculated price converges to within &#36; 0.01"
   ]
  },
  {
   "cell_type": "code",
   "execution_count": 7,
   "id": "28d68bcd",
   "metadata": {},
   "outputs": [],
   "source": [
    "A_price = []\n",
    "time_calc = []\n",
    "steps = range(20,500,20)\n",
    "for step in steps:\n",
    "    start = time.time_ns()\n",
    "    A_price.append(CRROptionWGreeks(105, 100, 0.02, 0, 0.2, step, 1, \"CALL\", True))\n",
    "    end = time.time_ns()\n",
    "    time_calc.append(end-start)"
   ]
  },
  {
   "cell_type": "code",
   "execution_count": 8,
   "id": "436a0228",
   "metadata": {},
   "outputs": [
    {
     "data": {
      "image/png": "[encoded data removed]",
      "text/plain": [
       "<Figure size 576x432 with 2 Axes>"
      ]
     },
     "metadata": {
      "needs_background": "light"
     },
     "output_type": "display_data"
    }
   ],
   "source": [
    "# Plotting price and time of american call option when security price is $105\n",
    "AP = pd.DataFrame(A_price)\n",
    "AP.columns = ['Price','Delta','Gamma','Tetha']\n",
    "\n",
    "fig, (ax1, ax2) = plt.subplots(2, figsize=(8,6))\n",
    "\n",
    "ax1.plot(steps, AP['Price'])\n",
    "ax1.set_title('Price of American Call Option When Security Price = 105')\n",
    "ax1.set_ylabel('Option Price ($)')\n",
    "ax1.set_xlabel('Number of Steps')\n",
    "\n",
    "ax2.plot(steps, time_calc)\n",
    "ax2.set_title('Time Required for Each Calculation When Security Price = 105')\n",
    "\n",
    "plt.tight_layout()\n",
    "plt.show()"
   ]
  },
  {
   "cell_type": "code",
   "execution_count": 9,
   "id": "4acbd9b8",
   "metadata": {},
   "outputs": [],
   "source": [
    "#Converting steps to dataframe\n",
    "steps_105 = pd.DataFrame(steps)"
   ]
  },
  {
   "cell_type": "code",
   "execution_count": 10,
   "id": "dd650f20",
   "metadata": {},
   "outputs": [
    {
     "data": {
      "text/html": [
       "<div>\n",
       "<style scoped>\n",
       "    .dataframe tbody tr th:only-of-type {\n",
       "        vertical-align: middle;\n",
       "    }\n",
       "\n",
       "    .dataframe tbody tr th {\n",
       "        vertical-align: top;\n",
       "    }\n",
       "\n",
       "    .dataframe thead th {\n",
       "        text-align: right;\n",
       "    }\n",
       "</style>\n",
       "<table border=\"1\" class=\"dataframe\">\n",
       "  <thead>\n",
       "    <tr style=\"text-align: right;\">\n",
       "      <th></th>\n",
       "      <th>Price</th>\n",
       "      <th>Delta</th>\n",
       "      <th>Gamma</th>\n",
       "      <th>Tetha</th>\n",
       "      <th>steps</th>\n",
       "      <th>diff105</th>\n",
       "    </tr>\n",
       "  </thead>\n",
       "  <tbody>\n",
       "    <tr>\n",
       "      <th>4</th>\n",
       "      <td>12.009680</td>\n",
       "      <td>0.671416</td>\n",
       "      <td>0.017363</td>\n",
       "      <td>-0.013696</td>\n",
       "      <td>100</td>\n",
       "      <td>0.002038</td>\n",
       "    </tr>\n",
       "    <tr>\n",
       "      <th>5</th>\n",
       "      <td>12.007784</td>\n",
       "      <td>0.671519</td>\n",
       "      <td>0.017355</td>\n",
       "      <td>-0.013692</td>\n",
       "      <td>120</td>\n",
       "      <td>-0.001896</td>\n",
       "    </tr>\n",
       "    <tr>\n",
       "      <th>6</th>\n",
       "      <td>12.004310</td>\n",
       "      <td>0.671603</td>\n",
       "      <td>0.017354</td>\n",
       "      <td>-0.013692</td>\n",
       "      <td>140</td>\n",
       "      <td>-0.003474</td>\n",
       "    </tr>\n",
       "    <tr>\n",
       "      <th>7</th>\n",
       "      <td>12.008403</td>\n",
       "      <td>0.671579</td>\n",
       "      <td>0.017340</td>\n",
       "      <td>-0.013682</td>\n",
       "      <td>160</td>\n",
       "      <td>0.004093</td>\n",
       "    </tr>\n",
       "    <tr>\n",
       "      <th>9</th>\n",
       "      <td>12.026356</td>\n",
       "      <td>0.671428</td>\n",
       "      <td>0.017294</td>\n",
       "      <td>-0.013653</td>\n",
       "      <td>200</td>\n",
       "      <td>0.007150</td>\n",
       "    </tr>\n",
       "  </tbody>\n",
       "</table>\n",
       "</div>"
      ],
      "text/plain": [
       "       Price     Delta     Gamma     Tetha  steps   diff105\n",
       "4  12.009680  0.671416  0.017363 -0.013696    100  0.002038\n",
       "5  12.007784  0.671519  0.017355 -0.013692    120 -0.001896\n",
       "6  12.004310  0.671603  0.017354 -0.013692    140 -0.003474\n",
       "7  12.008403  0.671579  0.017340 -0.013682    160  0.004093\n",
       "9  12.026356  0.671428  0.017294 -0.013653    200  0.007150"
      ]
     },
     "execution_count": 10,
     "metadata": {},
     "output_type": "execute_result"
    }
   ],
   "source": [
    "# Finding steps when price difference is within $0.01\n",
    "steps_105.rename(columns={0:\"steps\"}, inplace=True)\n",
    "AP_steps = pd.merge(AP,steps_105, left_index=True, right_index=True)\n",
    "AP_steps['diff105'] = AP['Price'] - AP['Price'].shift(1)\n",
    "AP_steps[AP_steps['diff105']<0.01].head()"
   ]
  },
  {
   "cell_type": "markdown",
   "id": "d05082a5",
   "metadata": {},
   "source": [
    "### Answer:"
   ]
  },
  {
   "cell_type": "markdown",
   "id": "3325765e",
   "metadata": {},
   "source": [
    "### When security price is 105, it requires around 100 steps before the calculated price converges to within &#36; 0.01"
   ]
  }
 ],
 "metadata": {
  "kernelspec": {
   "display_name": "Python 3 (ipykernel)",
   "language": "python",
   "name": "python3"
  },
  "language_info": {
   "codemirror_mode": {
    "name": "ipython",
    "version": 3
   },
   "file_extension": ".py",
   "mimetype": "text/x-python",
   "name": "python",
   "nbconvert_exporter": "python",
   "pygments_lexer": "ipython3",
   "version": "3.9.12"
  }
 },
 "nbformat": 4,
 "nbformat_minor": 5
}
