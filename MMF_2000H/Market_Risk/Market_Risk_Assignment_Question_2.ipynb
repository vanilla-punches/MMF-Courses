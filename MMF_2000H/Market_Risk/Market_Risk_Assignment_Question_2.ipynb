{
 "cells": [
  {
   "cell_type": "markdown",
   "id": "ce1567e7",
   "metadata": {},
   "source": [
    "## Question 2: P&L Attribution"
   ]
  },
  {
   "cell_type": "code",
   "execution_count": 1,
   "id": "4f7b0c06",
   "metadata": {},
   "outputs": [],
   "source": [
    "import math\n",
    "import numpy as np\n",
    "from scipy.stats import norm"
   ]
  },
  {
   "cell_type": "code",
   "execution_count": 2,
   "id": "316f62f3",
   "metadata": {},
   "outputs": [],
   "source": [
    "S, K, T, Q, R, V = 100, 105, 1+1/365, 0.04, 0.02, 0.3"
   ]
  },
  {
   "cell_type": "code",
   "execution_count": 3,
   "id": "bf9ee0e7",
   "metadata": {},
   "outputs": [],
   "source": [
    "def OptionValue (S, K, T, Q, R, V):\n",
    "    dP = ((np.log(S / K) + (R - Q + (V**2) / 2)) * T) / (V*np.sqrt(T))\n",
    "    dM = ((np.log(S / K) + (R - Q - (V**2) / 2)) * T) / (V*np.sqrt(T))\n",
    "    \n",
    "    C = S * np.exp(- Q * T) * norm.cdf(dP) -  np.exp(-R * T) * K * norm.cdf(dM)\n",
    "    return C"
   ]
  },
  {
   "cell_type": "code",
   "execution_count": 4,
   "id": "c8a8d5d3",
   "metadata": {},
   "outputs": [
    {
     "name": "stdout",
     "output_type": "stream",
     "text": [
      "Call price is 8.76376\n"
     ]
    }
   ],
   "source": [
    "C = OptionValue(S, K, T, Q, R, V)\n",
    "print(\"Call price is {:.5f}\". format(C))"
   ]
  },
  {
   "cell_type": "code",
   "execution_count": 5,
   "id": "d5c1f1d3",
   "metadata": {},
   "outputs": [],
   "source": [
    "# Normal Order\n",
    "Value1 = OptionValue(101, 105, 1+1/365, 0.04, 0.02, 0.3) - OptionValue(100, 105, 1+1/365, 0.04, 0.02, 0.3)\n",
    "Value2 = OptionValue(101, 105, 1, 0.04, 0.02, 0.3) - OptionValue(101, 105, 1+1/365, 0.04, 0.02, 0.3)\n",
    "Value3 = OptionValue(101, 105, 1, 0.04, 0.02, 0.3) - OptionValue(101, 105, 1, 0.04, 0.02, 0.3)\n",
    "Value4 = OptionValue(101, 105, 1, 0.04, 0.021, 0.3) - OptionValue(101, 105, 1, 0.04, 0.02, 0.3)\n",
    "Value5 = OptionValue(101, 105, 1, 0.04, 0.021, 0.32) - OptionValue(101, 105, 1, 0.04, 0.021, 0.3)"
   ]
  },
  {
   "cell_type": "code",
   "execution_count": 6,
   "id": "1cd0bf9e",
   "metadata": {},
   "outputs": [],
   "source": [
    "# Reverse Order\n",
    "Reverse1 = OptionValue(100, 105, 1+1/365, 0.04, 0.02, 0.32) - OptionValue(100, 105, 1+1/365, 0.04, 0.02, 0.3)\n",
    "Reverse2 = OptionValue(100, 105, 1+1/365, 0.04, 0.021, 0.32) - OptionValue(100, 105, 1+1/365, 0.04, 0.02, 0.32)\n",
    "Reverse3 = OptionValue(100, 105, 1+1/365, 0.04, 0.021, 0.32) - OptionValue(100, 105, 1+1/365, 0.04, 0.021, 0.32)\n",
    "Reverse4 = OptionValue(100, 105, 1, 0.04, 0.021, 0.32) - OptionValue(100, 105, 1+1/365, 0.04, 0.021, 0.32)\n",
    "Reverse5 = OptionValue(101, 105, 1, 0.04, 0.021, 0.32) - OptionValue(100, 105, 1, 0.04, 0.021, 0.32)"
   ]
  },
  {
   "cell_type": "code",
   "execution_count": 7,
   "id": "7027406f",
   "metadata": {},
   "outputs": [
    {
     "name": "stdout",
     "output_type": "stream",
     "text": [
      "The P&L attribution of the stock price change is 0.45645\n",
      "The P&L attribution of the time decay change is -0.01281\n",
      "The P&L attribution of the dividend yield change is 0.00000\n",
      "The P&L attribution of the risk-free rate change is 0.03757\n",
      "The P&L attribution of the volatility change is 0.77386\n"
     ]
    }
   ],
   "source": [
    "print(\"The P&L attribution of the stock price change is {:.5f}\". format(Value1))\n",
    "print(\"The P&L attribution of the time decay change is {:.5f}\". format(Value2))\n",
    "print(\"The P&L attribution of the dividend yield change is {:.5f}\". format(Value3))\n",
    "print(\"The P&L attribution of the risk-free rate change is {:.5f}\". format(Value4))\n",
    "print(\"The P&L attribution of the volatility change is {:.5f}\". format(Value5))"
   ]
  },
  {
   "cell_type": "code",
   "execution_count": 8,
   "id": "db2a37aa",
   "metadata": {},
   "outputs": [
    {
     "name": "stdout",
     "output_type": "stream",
     "text": [
      "The P&L attribution of the volatility change for reverse order is 0.76584\n",
      "The P&L attribution of the risk-free rate change for reverse order is 0.03655\n",
      "The P&L attribution of the dividend yield change for reverse order is 0.00000\n",
      "The P&L attribution of the time decay change for reverse order is -0.01382\n",
      "The P&L attribution of the stock price change for reverse order is 0.46650\n"
     ]
    }
   ],
   "source": [
    "print(\"The P&L attribution of the volatility change for reverse order is {:.5f}\". format(Reverse1))\n",
    "print(\"The P&L attribution of the risk-free rate change for reverse order is {:.5f}\". format(Reverse2))\n",
    "print(\"The P&L attribution of the dividend yield change for reverse order is {:.5f}\". format(Reverse3))\n",
    "print(\"The P&L attribution of the time decay change for reverse order is {:.5f}\". format(Reverse4))\n",
    "print(\"The P&L attribution of the stock price change for reverse order is {:.5f}\". format(Reverse5))"
   ]
  },
  {
   "cell_type": "code",
   "execution_count": 9,
   "id": "94566337",
   "metadata": {},
   "outputs": [
    {
     "name": "stdout",
     "output_type": "stream",
     "text": [
      "The sum of P&L is 1.25507\n",
      "The sum of P&L for the reverse order is 1.25507\n"
     ]
    }
   ],
   "source": [
    "print(\"The sum of P&L is {:.5f}\".format(Value1+Value2+Value3+Value4+Value5))\n",
    "print(\"The sum of P&L for the reverse order is {:.5f}\".format(Reverse1+Reverse2+Reverse3+Reverse4+Reverse5))"
   ]
  },
  {
   "cell_type": "markdown",
   "id": "61f9224b",
   "metadata": {},
   "source": [
    "### The P&L attribution is different because changing a different variable or parameter causes different value of our portfolio or position. To restate, the change of parameters shows sensitivities of an option or a portfolio, so investors or hedgers can predict the expected change in p&l from one period to the next period."
   ]
  }
 ],
 "metadata": {
  "kernelspec": {
   "display_name": "Python 3 (ipykernel)",
   "language": "python",
   "name": "python3"
  },
  "language_info": {
   "codemirror_mode": {
    "name": "ipython",
    "version": 3
   },
   "file_extension": ".py",
   "mimetype": "text/x-python",
   "name": "python",
   "nbconvert_exporter": "python",
   "pygments_lexer": "ipython3",
   "version": "3.9.12"
  }
 },
 "nbformat": 4,
 "nbformat_minor": 5
}
